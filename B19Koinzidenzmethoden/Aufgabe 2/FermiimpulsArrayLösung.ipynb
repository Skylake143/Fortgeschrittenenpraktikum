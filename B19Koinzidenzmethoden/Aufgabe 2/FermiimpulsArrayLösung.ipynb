{
 "cells": [
  {
   "cell_type": "code",
   "execution_count": 77,
   "metadata": {},
   "outputs": [],
   "source": [
    "import matplotlib.pyplot as plt\n",
    "import numpy as np\n",
    "from scipy.optimize import curve_fit\n",
    "import scipy.integrate as integrate"
   ]
  },
  {
   "cell_type": "code",
   "execution_count": 88,
   "metadata": {},
   "outputs": [],
   "source": [
    "#Daten einlesen\n",
    "with open('Messung2,1mm') as data:\n",
    "    energieTest = np.loadtxt((line.replace(',', '.') for line in data), usecols= 0, delimiter=\";\")\n",
    "    energie = np.ndarray([17,500])\n",
    "    count = np.array\n",
    "\n",
    "#Daten einlesen\n",
    "# with open('Messung2,1mm') as data:\n",
    "#     np.r_(energie,151.3 * np.loadtxt((line.replace(',', '.') for line in data), usecols= 0, delimiter=\";\"))\n",
    "with open('Messung2,1mm') as data:\n",
    "    locCount = np.loadtxt((line.replace(',', '.') for line in data), usecols= 1, delimiter=\";\")\n",
    "    np.r_[count,locCount]\n",
    "\n",
    "# with open('Messung2,4mm') as data:\n",
    "#     np.r_[energie,151.3 *np.loadtxt((line.replace(',', '.') for line in data), usecols= 0, delimiter=\";\")]\n",
    "with open('Messung2,4mm') as data:\n",
    "    np.r_[count,np.loadtxt((line.replace(',', '.') for line in data), usecols= 1, delimiter=\";\")]\n",
    "\n",
    "with open('Messung2,7mm') as data:\n",
    "    np.r_[count,np.loadtxt((line.replace(',', '.') for line in data), usecols= 1, delimiter=\";\")]\n",
    "\n",
    "with open('Messung3,0mm') as data:\n",
    "    np.r_[count, np.loadtxt((line.replace(',', '.') for line in data), usecols= 1, delimiter=\";\")]\n",
    "\n",
    "with open('Messung3,3mm') as data:\n",
    "    np.r_[count,np.loadtxt((line.replace(',', '.') for line in data), usecols= 1, delimiter=\";\")]\n",
    "\n",
    "with open('Messung3,6mm') as data:\n",
    "    np.r_[count,np.loadtxt((line.replace(',', '.') for line in data), usecols= 1, delimiter=\";\")]\n",
    "\n",
    "with open('Messung3,9mm') as data:\n",
    "    np.r_[count,np.loadtxt((line.replace(',', '.') for line in data), usecols= 1, delimiter=\";\")]\n",
    "\n",
    "with open('Messung4,2mm') as data:\n",
    "    np.r_[count,np.loadtxt((line.replace(',', '.') for line in data), usecols= 1, delimiter=\";\")]\n",
    "\n",
    "with open('Messung4,5mm') as data:\n",
    "    np.r_[count,np.loadtxt((line.replace(',', '.') for line in data), usecols= 1, delimiter=\";\")]\n",
    "\n",
    "with open('Messung4,8mm') as data:\n",
    "    np.r_[count,np.loadtxt((line.replace(',', '.') for line in data), usecols= 1, delimiter=\";\")]\n",
    "\n",
    "with open('Messung5,1mm') as data:\n",
    "    np.r_[count,np.loadtxt((line.replace(',', '.') for line in data), usecols= 1, delimiter=\";\")]\n",
    "\n",
    "with open('Messung5,4mm') as data:\n",
    "    np.r_[count,np.loadtxt((line.replace(',', '.') for line in data), usecols= 1, delimiter=\";\")]\n",
    "\n",
    "with open('Messung5,7mm') as data:\n",
    "    np.r_[count,np.loadtxt((line.replace(',', '.') for line in data), usecols= 1, delimiter=\";\")]\n",
    "\n",
    "with open('Messung6,0mm') as data:\n",
    "    np.r_[count,np.loadtxt((line.replace(',', '.') for line in data), usecols= 1, delimiter=\";\")]\n",
    "\n",
    "with open('Messung6,3mm') as data:\n",
    "    np.r_[count,np.loadtxt((line.replace(',', '.') for line in data), usecols= 1, delimiter=\";\")]\n",
    "\n",
    "with open('Messung6,6mm') as data:\n",
    "    np.r_[count,np.loadtxt((line.replace(',', '.') for line in data), usecols= 1, delimiter=\";\")]\n",
    "\n",
    "with open('Messung6,9mm') as data:\n",
    "    np.r_[count,np.loadtxt((line.replace(',', '.') for line in data), usecols= 1, delimiter=\";\")]"
   ]
  },
  {
   "cell_type": "code",
   "execution_count": null,
   "metadata": {},
   "outputs": [],
   "source": [
    "sumCount = count.sum(axis=1)\n"
   ]
  },
  {
   "cell_type": "code",
   "execution_count": null,
   "metadata": {},
   "outputs": [
    {
     "name": "stdout",
     "output_type": "stream",
     "text": [
      "Abgezählt aus Count: 110-146\n"
     ]
    },
    {
     "data": {
      "image/png": "[encoded data removed]",
      "text/plain": [
       "<Figure size 864x432 with 1 Axes>"
      ]
     },
     "metadata": {
      "needs_background": "light"
     },
     "output_type": "display_data"
    }
   ],
   "source": [
    "parameters = {'xtick.labelsize': 20, 'ytick.labelsize': 20}\n",
    "plt.rcParams.update(parameters)\n",
    "\n",
    "fig, ax = plt.subplots(figsize=(12,6))\n",
    "\n",
    "#Name for axis\n",
    "ax.set_xlabel('Energy [keV]', fontsize=20)\n",
    "ax.set_ylabel('Count of events', fontsize=20)\n",
    "#Plot der aufsummierten Events\n",
    "ax.plot(energieTest, sumCount,'o',markersize=3, color = \"lightblue\",label = \"Plot der aufsummierten Events\")\n",
    "\n",
    "#Integrationsgrenzen des koinzidenten Peaks\n",
    "print('Abgezählt aus Count: 110-146')\n",
    "\n",
    "# N21 = sum(count21[110:146])\n",
    "# N24 = sum(count24[110:146])\n",
    "# N27 = sum(count27[110:146])\n",
    "# N30 = sum(count30[110:146])\n",
    "# N33 = sum(count33[110:146])\n",
    "# N36 = sum(count36[110:146])\n",
    "# N39 = sum(count39[110:146])\n",
    "# N42 = sum(count42[110:146])\n",
    "# N45 = sum(count45[110:146])\n",
    "# N48 = sum(count48[110:146])\n",
    "# N51 = sum(count51[110:146])\n",
    "# N54 = sum(count54[110:146])\n",
    "# N57 = sum(count57[110:146])\n",
    "# N60 = sum(count60[110:146])\n",
    "# N63 = sum(count63[110:146])\n",
    "# N66 = sum(count66[110:146])\n",
    "# N69 = sum(count69[110:146])\n",
    "\n",
    "\n"
   ]
  }
 ],
 "metadata": {
  "interpreter": {
   "hash": "1acf31908e6e4a465154d8acfb9772843a3cf900b72da096859ed45aad3b7781"
  },
  "kernelspec": {
   "display_name": "Python 3.10.2 ('.venv': venv)",
   "language": "python",
   "name": "python3"
  },
  "language_info": {
   "codemirror_mode": {
    "name": "ipython",
    "version": 3
   },
   "file_extension": ".py",
   "mimetype": "text/x-python",
   "name": "python",
   "nbconvert_exporter": "python",
   "pygments_lexer": "ipython3",
   "version": "3.10.2"
  },
  "orig_nbformat": 4
 },
 "nbformat": 4,
 "nbformat_minor": 2
}
