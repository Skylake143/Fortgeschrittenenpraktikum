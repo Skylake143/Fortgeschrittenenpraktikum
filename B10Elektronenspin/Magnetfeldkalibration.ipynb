{
 "cells": [
  {
   "cell_type": "code",
   "execution_count": null,
   "metadata": {},
   "outputs": [],
   "source": [
    "import matplotlib.pyplot as plt\n",
    "import numpy as np\n",
    "from scipy.optimize import curve_fit\n",
    "import scipy.integrate as integrate\n",
    "from iminuit import Minuit"
   ]
  },
  {
   "cell_type": "code",
   "execution_count": null,
   "metadata": {},
   "outputs": [],
   "source": [
    "#Daten einlesen\n",
    "with open('MagnetfeldKalibrationAufsteigendeSpannung.txt') as data:\n",
    "    adcvalue_baeich = np.loadtxt(data, usecols= 0)\n",
    "with open('eich_ba_120s.txt') as data:\n",
    "    counts_baeich = np.loadtxt(data, usecols= 1)"
   ]
  }
 ],
 "metadata": {
  "language_info": {
   "name": "python"
  },
  "orig_nbformat": 4
 },
 "nbformat": 4,
 "nbformat_minor": 2
}
